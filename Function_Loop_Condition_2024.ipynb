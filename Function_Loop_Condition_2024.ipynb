{
  "nbformat": 4,
  "nbformat_minor": 0,
  "metadata": {
    "kernelspec": {
      "display_name": "Python 3",
      "language": "python",
      "name": "python3"
    },
    "language_info": {
      "codemirror_mode": {
        "name": "ipython",
        "version": 3
      },
      "file_extension": ".py",
      "mimetype": "text/x-python",
      "name": "python",
      "nbconvert_exporter": "python",
      "pygments_lexer": "ipython3",
      "version": "3.7.4"
    },
    "colab": {
      "provenance": [],
      "toc_visible": true,
      "include_colab_link": true
    }
  },
  "cells": [
    {
      "cell_type": "markdown",
      "metadata": {
        "id": "view-in-github",
        "colab_type": "text"
      },
      "source": [
        "<a href=\"https://colab.research.google.com/github/lnwprameza007/pythion_dataviz2024/blob/main/Function_Loop_Condition_2024.ipynb\" target=\"_parent\"><img src=\"https://colab.research.google.com/assets/colab-badge.svg\" alt=\"Open In Colab\"/></a>"
      ]
    },
    {
      "cell_type": "markdown",
      "metadata": {
        "id": "-57L9aVubPqU"
      },
      "source": [
        "# Function"
      ]
    },
    {
      "cell_type": "markdown",
      "metadata": {
        "id": "1DNzYhO4bPqb"
      },
      "source": [
        "## Function template\n",
        "#### ทำหน้าที่รับ input มาประมวณผลออกมาเป็น output\n",
        "#### f(x) = y"
      ]
    },
    {
      "cell_type": "markdown",
      "metadata": {
        "id": "3Nv1ZDEKbPqc"
      },
      "source": [
        "### def คือการกำหนดฟังก์ชัน"
      ]
    },
    {
      "cell_type": "markdown",
      "metadata": {
        "id": "YnjWc1vXl1VF"
      },
      "source": [
        "\n",
        "backtick (`) ==> กด ~ ค้าง, alt - 9>6 (full keyboard with number)\n",
        "\n",
        "tilde (~)\n",
        "\n",
        "curly bracket ({ })\n",
        "\n",
        "square bracket ([ ])"
      ]
    },
    {
      "cell_type": "markdown",
      "metadata": {
        "id": "DbHDoWEabPqc"
      },
      "source": [
        "```python\n",
        "    def function_name(_Input_) :\n",
        "        do_something with _Input_ to get _Output_\n",
        "        return _Output_\n",
        "```"
      ]
    },
    {
      "cell_type": "markdown",
      "source": [
        "เราใช้เว้นวรรค์เพื่อบอกขอบเขตของโปรแกรม"
      ],
      "metadata": {
        "id": "9HKDv1RDVeKx"
      }
    },
    {
      "cell_type": "markdown",
      "metadata": {
        "id": "kh2M1smCl5Iv"
      },
      "source": [
        "function มีส่วนสำคัญทั้งหมด 4 ส่วน\n",
        "\n",
        "1.   บอก python ว่าเราจะเขียนฟังก์ชั่น ชื่ออะไร  ```def function_name():``` (ขาดไม่ได้)\n",
        "2.   กำหนดตัวแปรที่จะเป็น input  ```_Input_``` (ขาดได้)\n",
        "3.   ส่วนประมวลผล ```do_something with _Input_ to get _Output_``` (ขาดไม่ได้)\n",
        "4.   ส่วน output ```return _Output_```(ขาดได้)\n",
        "\n"
      ]
    },
    {
      "cell_type": "markdown",
      "metadata": {
        "id": "lqWzVN5AbPqc"
      },
      "source": [
        "#### ตัวอย่างการเขียน normal function\n"
      ]
    },
    {
      "cell_type": "code",
      "source": [
        "def print_myname():\n",
        "    print('Theerapat')"
      ],
      "metadata": {
        "id": "0ddtBWzhTHnR"
      },
      "execution_count": null,
      "outputs": []
    },
    {
      "cell_type": "code",
      "source": [
        "print_myname()"
      ],
      "metadata": {
        "colab": {
          "base_uri": "https://localhost:8080/"
        },
        "id": "vRTKWfBiTZFD",
        "outputId": "8d3769c8-0f28-4007-d9be-941432c5ea91"
      },
      "execution_count": null,
      "outputs": [
        {
          "output_type": "stream",
          "name": "stdout",
          "text": [
            "Theerapat\n"
          ]
        }
      ]
    },
    {
      "cell_type": "code",
      "metadata": {
        "id": "n706WULobPqc"
      },
      "source": [
        "def print_name(surname,ID,name): #ตัวอย่างฟังก์ชันที่มี input หลายตัว\n",
        "    st = f'ชื่อ {name} นามสกุล {surname} รหัส {ID}'\n",
        "    print(st)"
      ],
      "execution_count": null,
      "outputs": []
    },
    {
      "cell_type": "code",
      "metadata": {
        "colab": {
          "base_uri": "https://localhost:8080/",
          "height": 35
        },
        "id": "muh0pi_Gkym8",
        "outputId": "67aa8175-9119-4e5d-e950-17131f1894e1"
      },
      "source": [
        "print_name(surname='Petchdong',name='Theerapat',ID='653020209-3')"
      ],
      "execution_count": null,
      "outputs": [
        {
          "output_type": "execute_result",
          "data": {
            "text/plain": [
              "'ชื่อ Theerapat นามสกุล Petchdong รหัส 653020209-3'"
            ],
            "application/vnd.google.colaboratory.intrinsic+json": {
              "type": "string"
            }
          },
          "metadata": {},
          "execution_count": 15
        }
      ]
    },
    {
      "cell_type": "code",
      "metadata": {
        "colab": {
          "base_uri": "https://localhost:8080/"
        },
        "id": "I1Kt_GOpbPqd",
        "outputId": "83bb1fa2-6d8c-4eac-d70d-360b285e9bec"
      },
      "source": [
        "print(print_name(name='กาญจนา',surname='ประสาคุณ',ID='603021855-2'))"
      ],
      "execution_count": null,
      "outputs": [
        {
          "output_type": "stream",
          "text": [
            "ชื่อ กาญจนา นามสกุล ประสาคุณ รหัส 603021855-2\n"
          ],
          "name": "stdout"
        }
      ]
    },
    {
      "cell_type": "code",
      "source": [
        "out_print_name1 = print_name(name='theerapat',surname='Petchdong',ID='653020209-3')"
      ],
      "metadata": {
        "colab": {
          "base_uri": "https://localhost:8080/"
        },
        "id": "m3ezL8j6V2Ws",
        "outputId": "d4ea568f-7d79-4db7-d2e0-cfdacc94fdf0"
      },
      "execution_count": null,
      "outputs": [
        {
          "output_type": "stream",
          "name": "stdout",
          "text": [
            "ชื่อ theerapat นามสกุล Petchdong รหัส 653020209-3\n"
          ]
        }
      ]
    },
    {
      "cell_type": "code",
      "source": [
        "out_printname2 = print_name(name='theerapat',surname='Petchdong',ID='653020209-3')\n",
        "print(out_printname2)"
      ],
      "metadata": {
        "colab": {
          "base_uri": "https://localhost:8080/"
        },
        "id": "nGWT8Yn4WU4F",
        "outputId": "76319779-b62a-4e01-f405-86db7253c8ae"
      },
      "execution_count": null,
      "outputs": [
        {
          "output_type": "stream",
          "name": "stdout",
          "text": [
            "ชื่อ theerapat นามสกุล Petchdong รหัส 653020209-3\n",
            "None\n"
          ]
        }
      ]
    },
    {
      "cell_type": "code",
      "source": [
        "print(out_printname2)"
      ],
      "metadata": {
        "colab": {
          "base_uri": "https://localhost:8080/"
        },
        "id": "hdR2_CAlWpF-",
        "outputId": "eef41d6a-9d48-4518-cba9-7e93121e6a55"
      },
      "execution_count": null,
      "outputs": [
        {
          "output_type": "stream",
          "name": "stdout",
          "text": [
            "None\n"
          ]
        }
      ]
    },
    {
      "cell_type": "markdown",
      "metadata": {
        "id": "1fuimreqpVhU"
      },
      "source": [
        "เราใช้ เว้นวรรค (indent) เพื่อบอกขอบเขตของโปรแกรม"
      ]
    },
    {
      "cell_type": "markdown",
      "metadata": {
        "id": "tSV-FUQBpx0i"
      },
      "source": [
        "ฟังก์ชั่นไม่จำเป็นต้องมี output"
      ]
    },
    {
      "cell_type": "code",
      "metadata": {
        "id": "loNAFSvLo5dC"
      },
      "source": [
        "def print_name2(surname,ID,name):\n",
        "    st = f'ชื่อ {name} นามสกุล {surname} รหัส {ID}'\n",
        "    print(st)"
      ],
      "execution_count": null,
      "outputs": []
    },
    {
      "cell_type": "code",
      "metadata": {
        "colab": {
          "base_uri": "https://localhost:8080/"
        },
        "id": "JE88oCj8o_j_",
        "outputId": "e4388ec3-2203-452b-862a-a1311ef4775b"
      },
      "source": [
        "print_name2(name='กาญจนา',surname='ประสาคุณ',ID='603021855-2')"
      ],
      "execution_count": null,
      "outputs": [
        {
          "output_type": "stream",
          "text": [
            "ชื่อ กาญจนา นามสกุล ประสาคุณ รหัส 603021855-2\n"
          ],
          "name": "stdout"
        }
      ]
    },
    {
      "cell_type": "markdown",
      "metadata": {
        "id": "JF4RdyEBqPyl"
      },
      "source": [
        "ฟังก์ชั่นไม่จำเป็นต้องมี input"
      ]
    },
    {
      "cell_type": "code",
      "metadata": {
        "id": "LNb_o_ZXo_gh"
      },
      "source": [
        "def Pi():\n",
        "    return 3.14159265359"
      ],
      "execution_count": null,
      "outputs": []
    },
    {
      "cell_type": "code",
      "metadata": {
        "colab": {
          "base_uri": "https://localhost:8080/"
        },
        "id": "htN6zLbFo_dr",
        "outputId": "dd5ea74f-109b-41c4-8ce9-e21c53ca12e9"
      },
      "source": [
        "Pi()*(2**2) # หาพื้นที่ของวงกลมที่มีรัศมีเท่ากับ Pi * r^2"
      ],
      "execution_count": null,
      "outputs": [
        {
          "output_type": "execute_result",
          "data": {
            "text/plain": [
              "12.56637061436"
            ]
          },
          "metadata": {},
          "execution_count": 30
        }
      ]
    },
    {
      "cell_type": "markdown",
      "metadata": {
        "id": "ywc0Ho-_rUTu"
      },
      "source": [
        "## เราสามารถกำหนดค่า default ให้กับฟังก์ชั่นได้"
      ]
    },
    {
      "cell_type": "markdown",
      "metadata": {
        "id": "y_74dHkjxS7f"
      },
      "source": [
        "input ของ function ใน python มีสองแบบ input ที่จำเป็นต้องใส่ กับ input ที่ไม่จำเป็นต้องใส่ (มีค่า default)\n",
        "\n",
        "เราต้องเรียง input ที่จำเป็นต้องใส่ขึ้นก่อน"
      ]
    },
    {
      "cell_type": "code",
      "metadata": {
        "id": "0Lrh-6mAo_bA"
      },
      "source": [
        "def print_2lines_default(name,surname,ID,grade='A'):\n",
        "    st = f'ชื่อ {name} นามสกุล {surname} รหัส {ID}'\n",
        "    print (st)\n",
        "    st2=f'เกรดวิชา Data Viz >>> {grade}'\n",
        "    print(st2)"
      ],
      "execution_count": null,
      "outputs": []
    },
    {
      "cell_type": "code",
      "metadata": {
        "colab": {
          "base_uri": "https://localhost:8080/"
        },
        "id": "ZH31VIjko_WP",
        "outputId": "51d1642c-c8f4-4ccc-eda2-c545e93fc413"
      },
      "source": [
        "print_2lines_default('ธันยาการต์','พวงมาลัย','613020551-8')"
      ],
      "execution_count": null,
      "outputs": [
        {
          "output_type": "stream",
          "name": "stdout",
          "text": [
            "ชื่อ ธันยาการต์ นามสกุล พวงมาลัย รหัส 613020551-8\n",
            "เกรดวิชา Data Viz >>> A\n"
          ]
        }
      ]
    },
    {
      "cell_type": "code",
      "metadata": {
        "colab": {
          "base_uri": "https://localhost:8080/"
        },
        "id": "FKGr2Iyuo_S2",
        "outputId": "36f48dba-8575-46f5-80ce-11cbe77ca6ce"
      },
      "source": [
        "print_2lines_default('ธันยาการต์','พวงมาลัย','613020551-8','A')"
      ],
      "execution_count": null,
      "outputs": [
        {
          "output_type": "stream",
          "name": "stdout",
          "text": [
            "ชื่อ ธันยาการต์ นามสกุล พวงมาลัย รหัส 613020551-8\n",
            "เกรดวิชา Data Viz >>> A\n"
          ]
        }
      ]
    },
    {
      "cell_type": "markdown",
      "source": [
        "##Quiz 3 เขียน function ที่รับ input 1 ตัว ตาม Format hh1:mm1:ss1-hh2:mm2:ss2 และคำนวณหา ช่วงเวลาเป็นช่วงเวลาเป็นวินาที ที่ห่างกันระหว่าง t1 และ t2"
      ],
      "metadata": {
        "id": "NPjWXL35bBUF"
      }
    },
    {
      "cell_type": "code",
      "source": [
        "timecal('08:00:00','10:00:00')"
      ],
      "metadata": {
        "colab": {
          "base_uri": "https://localhost:8080/"
        },
        "id": "J5uPyuE2eD9c",
        "outputId": "86e6cec6-1e96-40ac-eeec-18e4b4ec89cf"
      },
      "execution_count": null,
      "outputs": [
        {
          "output_type": "execute_result",
          "data": {
            "text/plain": [
              "7200"
            ]
          },
          "metadata": {},
          "execution_count": 44
        }
      ]
    },
    {
      "cell_type": "code",
      "source": [
        "timedif('11:11:11')"
      ],
      "metadata": {
        "colab": {
          "base_uri": "https://localhost:8080/"
        },
        "id": "9ixCETtagaXN",
        "outputId": "75b110bd-5ea8-4ade-9d53-f51ca7a681cd"
      },
      "execution_count": null,
      "outputs": [
        {
          "output_type": "execute_result",
          "data": {
            "text/plain": [
              "40271"
            ]
          },
          "metadata": {},
          "execution_count": 49
        }
      ]
    },
    {
      "cell_type": "markdown",
      "metadata": {
        "id": "UB5fTAr3bPqg"
      },
      "source": [
        "# LOOP การวนซ้ำ"
      ]
    },
    {
      "cell_type": "markdown",
      "metadata": {
        "id": "gpIwjDjg0gfJ"
      },
      "source": [
        "for เป็นคำที่ใช้บอก python ว่าเรากำลังเขียน loop\n",
        "โดย for จะวนดึงสมาชิกจาก ```listA``` มาทำ process ```do_something```"
      ]
    },
    {
      "cell_type": "markdown",
      "metadata": {
        "id": "6XS2wO4_bPqg"
      },
      "source": [
        "```python\n",
        "    for each_member in listA :\n",
        "        do_something\n",
        "```"
      ]
    },
    {
      "cell_type": "markdown",
      "metadata": {
        "id": "d7kQ2AEcbPqg"
      },
      "source": [
        "#### คำสั่ง for เป็นคำสั่งวนซ้ำที่ใช้ควบคุมการทำงานซ้ำๆ ในจำนวนรอบที่แน่นอน"
      ]
    },
    {
      "cell_type": "code",
      "metadata": {
        "colab": {
          "base_uri": "https://localhost:8080/"
        },
        "id": "NcT-s7TEbPqg",
        "outputId": "1fb13c4f-5a96-4950-be32-a79555eaf374"
      },
      "source": [
        "for i in [1,2,3] :\n",
        "    o = i**2\n",
        "    print (f'this member = {i} after process = {o}')"
      ],
      "execution_count": null,
      "outputs": [
        {
          "output_type": "stream",
          "name": "stdout",
          "text": [
            "this member = 1 after process = 1\n",
            "this member = 2 after process = 4\n",
            "this member = 3 after process = 9\n"
          ]
        }
      ]
    },
    {
      "cell_type": "markdown",
      "metadata": {
        "id": "YbnFaiU2bPqg"
      },
      "source": [
        "#### ตัวอย่างการใช้คำสั่ง for ในการวนซ้ำค่าของ i เมื่อ i คือ 'Thanapong' และคำสั่ง print(f'{i} -> /') เพื่อกำหนดให้ผลลัพธ์แสดงสัญลักษณ์ -> /  จากนั้นเพิ่มคำสั่ง print(' ') อีกครั้งเพื่อให้ผลลัพธ์มีการเว้นวรรค¶"
      ]
    },
    {
      "cell_type": "code",
      "metadata": {
        "id": "kstoI_CEbPqh",
        "outputId": "d4229c08-7f1a-4994-c08d-ff59d1c2838b",
        "colab": {
          "base_uri": "https://localhost:8080/"
        }
      },
      "source": [
        "for i in 'Thanapong':\n",
        "    print(f'{i} -> / ' )"
      ],
      "execution_count": null,
      "outputs": [
        {
          "output_type": "stream",
          "text": [
            "T -> / \n",
            "h -> / \n",
            "a -> / \n",
            "n -> / \n",
            "a -> / \n",
            "p -> / \n",
            "o -> / \n",
            "n -> / \n",
            "g -> / \n"
          ],
          "name": "stdout"
        }
      ]
    },
    {
      "cell_type": "code",
      "metadata": {
        "id": "mQmh0Ip-V8qR",
        "outputId": "a67e887f-abee-445c-dd33-16eb805b5418",
        "colab": {
          "base_uri": "https://localhost:8080/"
        }
      },
      "source": [
        "for i in 'Thanapong':\n",
        "    print(f'{i} -> / ' ,end = '') #สั่งให้ print แบบ ไม่เว้นบรรทัด"
      ],
      "execution_count": null,
      "outputs": [
        {
          "output_type": "stream",
          "text": [
            "T -> / h -> / a -> / n -> / a -> / p -> / o -> / n -> / g -> / "
          ],
          "name": "stdout"
        }
      ]
    },
    {
      "cell_type": "code",
      "metadata": {
        "id": "rswo2JlyW0Ou",
        "outputId": "85003545-c15a-4eef-ca51-12b34ffc13ad",
        "colab": {
          "base_uri": "https://localhost:8080/"
        }
      },
      "source": [
        "for i in 'Thanapong':\n",
        "    print(f'{i} -> / ' ,end = ',') #สั่งให้ print แบบ ไม่เว้นบรรทัด"
      ],
      "execution_count": null,
      "outputs": [
        {
          "output_type": "stream",
          "text": [
            "T -> / ,h -> / ,a -> / ,n -> / ,a -> / ,p -> / ,o -> / ,n -> / ,g -> / ,"
          ],
          "name": "stdout"
        }
      ]
    },
    {
      "cell_type": "markdown",
      "metadata": {
        "id": "3_I0IHOqXMIr"
      },
      "source": [
        "## สร้าง list ตัวเลขแบบอัตโนมัติ  range()"
      ]
    },
    {
      "cell_type": "code",
      "metadata": {
        "id": "ensAuLXBW-0P",
        "outputId": "f00a58d7-d9d7-4fb6-a11d-cf375cf362c7",
        "colab": {
          "base_uri": "https://localhost:8080/"
        }
      },
      "source": [
        "range5_output = range(5)\n",
        "print(list(range5_output))"
      ],
      "execution_count": null,
      "outputs": [
        {
          "output_type": "stream",
          "text": [
            "[0, 1, 2, 3, 4]\n"
          ],
          "name": "stdout"
        }
      ]
    },
    {
      "cell_type": "code",
      "metadata": {
        "id": "r8JXggPKXrEx",
        "outputId": "089ce907-1dd6-4734-9594-a014968cc33a",
        "colab": {
          "base_uri": "https://localhost:8080/"
        }
      },
      "source": [
        "for i in range(100):\n",
        "    print('งง',end=' ')"
      ],
      "execution_count": null,
      "outputs": [
        {
          "output_type": "stream",
          "text": [
            "งง งง งง งง งง งง งง งง งง งง งง งง งง งง งง งง งง งง งง งง งง งง งง งง งง งง งง งง งง งง งง งง งง งง งง งง งง งง งง งง งง งง งง งง งง งง งง งง งง งง งง งง งง งง งง งง งง งง งง งง งง งง งง งง งง งง งง งง งง งง งง งง งง งง งง งง งง งง งง งง งง งง งง งง งง งง งง งง งง งง งง งง งง งง งง งง งง งง งง งง "
          ],
          "name": "stdout"
        }
      ]
    },
    {
      "cell_type": "code",
      "metadata": {
        "id": "RLvhNqw8YpKa",
        "outputId": "4a0f60d8-2c26-4a2a-d281-eb44d3a0d2b2",
        "colab": {
          "base_uri": "https://localhost:8080/"
        }
      },
      "source": [
        "list(range(1,11)) #เริ่มต้นเป็นวงทึบ จบเป็นวงกลมโปร่ง เหมือน list slicing"
      ],
      "execution_count": null,
      "outputs": [
        {
          "output_type": "execute_result",
          "data": {
            "text/plain": [
              "[1, 2, 3, 4, 5, 6, 7, 8, 9, 10]"
            ]
          },
          "metadata": {
            "tags": []
          },
          "execution_count": 9
        }
      ]
    },
    {
      "cell_type": "code",
      "metadata": {
        "id": "MqXQ9NLGcW-r",
        "outputId": "6fafadb7-ee19-423d-a6ee-2d24b3389986",
        "colab": {
          "base_uri": "https://localhost:8080/"
        }
      },
      "source": [
        "list(range(-3,20,4))"
      ],
      "execution_count": null,
      "outputs": [
        {
          "output_type": "execute_result",
          "data": {
            "text/plain": [
              "[-3, 1, 5, 9, 13, 17]"
            ]
          },
          "metadata": {
            "tags": []
          },
          "execution_count": 11
        }
      ]
    },
    {
      "cell_type": "markdown",
      "metadata": {
        "id": "vPcR4tJebPqi"
      },
      "source": [
        "### loop in loop\n",
        "#### สามารถใช้ for loop ซ้อนกันสองรอบได้¶"
      ]
    },
    {
      "cell_type": "code",
      "metadata": {
        "id": "TKRcpd5DbPqi",
        "outputId": "b9bdf075-e2d2-4f48-d94b-dc32716fd05a",
        "colab": {
          "base_uri": "https://localhost:8080/"
        }
      },
      "source": [
        "for name1 in  range(2,5): #(2, 3, 4)\n",
        "    print(f'now name1 = {name1}')\n",
        "    for name2 in  range(1,13):\n",
        "        print(name1,' x ',name2,' = ',name1*name2)\n",
        "    print('the inner loop is end')"
      ],
      "execution_count": null,
      "outputs": [
        {
          "output_type": "stream",
          "text": [
            "now name1 = 2\n",
            "2  x  1  =  2\n",
            "2  x  2  =  4\n",
            "2  x  3  =  6\n",
            "2  x  4  =  8\n",
            "2  x  5  =  10\n",
            "2  x  6  =  12\n",
            "2  x  7  =  14\n",
            "2  x  8  =  16\n",
            "2  x  9  =  18\n",
            "2  x  10  =  20\n",
            "2  x  11  =  22\n",
            "2  x  12  =  24\n",
            "the inner loop is end\n",
            "now name1 = 3\n",
            "3  x  1  =  3\n",
            "3  x  2  =  6\n",
            "3  x  3  =  9\n",
            "3  x  4  =  12\n",
            "3  x  5  =  15\n",
            "3  x  6  =  18\n",
            "3  x  7  =  21\n",
            "3  x  8  =  24\n",
            "3  x  9  =  27\n",
            "3  x  10  =  30\n",
            "3  x  11  =  33\n",
            "3  x  12  =  36\n",
            "the inner loop is end\n",
            "now name1 = 4\n",
            "4  x  1  =  4\n",
            "4  x  2  =  8\n",
            "4  x  3  =  12\n",
            "4  x  4  =  16\n",
            "4  x  5  =  20\n",
            "4  x  6  =  24\n",
            "4  x  7  =  28\n",
            "4  x  8  =  32\n",
            "4  x  9  =  36\n",
            "4  x  10  =  40\n",
            "4  x  11  =  44\n",
            "4  x  12  =  48\n",
            "the inner loop is end\n"
          ],
          "name": "stdout"
        }
      ]
    },
    {
      "cell_type": "markdown",
      "metadata": {
        "id": "7-FAZit8bPqi"
      },
      "source": [
        "### loop in function\n",
        "#### การวนลูปในฟังก์ชั่น¶"
      ]
    },
    {
      "cell_type": "code",
      "metadata": {
        "id": "S0r5yhbDbPqi"
      },
      "source": [
        "def print_feelings(I,friendS,feeling = 'คิดถึง'):\n",
        "    for friend in friendS:\n",
        "        print(f'{I} {feeling} {friend}')"
      ],
      "execution_count": null,
      "outputs": []
    },
    {
      "cell_type": "code",
      "metadata": {
        "id": "_oVKj4SRfGS6"
      },
      "source": [
        "list_friends = ['พี่บูม','ดายน์','แตงโม','ฝน','พี่เจ็ท','น้องแคมป์']"
      ],
      "execution_count": null,
      "outputs": []
    },
    {
      "cell_type": "code",
      "metadata": {
        "id": "RepVZqu6bPqi",
        "outputId": "644fddf2-a94e-4193-e49c-8e545b89fff4",
        "colab": {
          "base_uri": "https://localhost:8080/"
        }
      },
      "source": [
        "print_feelings('เจมส์',list_friends)"
      ],
      "execution_count": null,
      "outputs": [
        {
          "output_type": "stream",
          "text": [
            "เจมส์ คิดถึง พี่บูม\n",
            "เจมส์ คิดถึง ดายน์\n",
            "เจมส์ คิดถึง แตงโม\n",
            "เจมส์ คิดถึง ฝน\n",
            "เจมส์ คิดถึง พี่เจ็ท\n",
            "เจมส์ คิดถึง น้องแคมป์\n"
          ],
          "name": "stdout"
        }
      ]
    },
    {
      "cell_type": "code",
      "metadata": {
        "id": "P20pDnVaf2vK",
        "outputId": "d9c1745b-b67c-485f-c8f6-f913e354f52a",
        "colab": {
          "base_uri": "https://localhost:8080/"
        }
      },
      "source": [
        "print_feelings('เจมส์',list_friends,feeling='รัก')"
      ],
      "execution_count": null,
      "outputs": [
        {
          "output_type": "stream",
          "text": [
            "เจมส์ รัก พี่บูม\n",
            "เจมส์ รัก ดายน์\n",
            "เจมส์ รัก แตงโม\n",
            "เจมส์ รัก ฝน\n",
            "เจมส์ รัก พี่เจ็ท\n",
            "เจมส์ รัก น้องแคมป์\n"
          ],
          "name": "stdout"
        }
      ]
    },
    {
      "cell_type": "code",
      "metadata": {
        "id": "SzHamL8JhKG4",
        "outputId": "770cd9ef-3efe-4bb2-c103-9496172cb407",
        "colab": {
          "base_uri": "https://localhost:8080/"
        }
      },
      "source": [
        "print_feelings('เจมส์',list_friends,'รัก')"
      ],
      "execution_count": null,
      "outputs": [
        {
          "output_type": "stream",
          "text": [
            "เจมส์ รัก พี่บูม\n",
            "เจมส์ รัก ดายน์\n",
            "เจมส์ รัก แตงโม\n",
            "เจมส์ รัก ฝน\n",
            "เจมส์ รัก พี่เจ็ท\n",
            "เจมส์ รัก น้องแคมป์\n"
          ],
          "name": "stdout"
        }
      ]
    },
    {
      "cell_type": "markdown",
      "source": [
        "## Dictionary(Data Structure)\n",
        "โครงสร้างข้อมูลที่จัดเก็บข้อมูล โดยการอ้างอิงโดย text\n",
        "วงเล็บ ```{``````}``` Curly brankets"
      ],
      "metadata": {
        "id": "X6HHq9XhWvW-"
      }
    },
    {
      "cell_type": "code",
      "source": [
        "Ex_dict_A = {'memberA':[1,2,3],'memberB':8,'memberC':'abc'}\n",
        "Ex_dict_A"
      ],
      "metadata": {
        "id": "0OddQN2VWrOv",
        "outputId": "1d7144c7-a121-4d69-bcfc-90ac3370be22",
        "colab": {
          "base_uri": "https://localhost:8080/"
        }
      },
      "execution_count": null,
      "outputs": [
        {
          "output_type": "execute_result",
          "data": {
            "text/plain": [
              "{'memberA': [1, 2, 3], 'memberB': 8, 'memberC': 'abc'}"
            ]
          },
          "metadata": {},
          "execution_count": 1
        }
      ]
    },
    {
      "cell_type": "code",
      "source": [
        "Ex_dict_A['memberA']"
      ],
      "metadata": {
        "id": "3ZhnV2LjW6pP",
        "outputId": "7bfd35a2-c986-4325-83cf-373e4746e6ae",
        "colab": {
          "base_uri": "https://localhost:8080/"
        }
      },
      "execution_count": null,
      "outputs": [
        {
          "output_type": "execute_result",
          "data": {
            "text/plain": [
              "[1, 2, 3]"
            ]
          },
          "metadata": {},
          "execution_count": 2
        }
      ]
    },
    {
      "cell_type": "code",
      "source": [
        "Ex_dict_A['memberA'][1]"
      ],
      "metadata": {
        "id": "Vi3UqneHXLGr",
        "outputId": "7c188762-851a-44cb-8600-67e2655be828",
        "colab": {
          "base_uri": "https://localhost:8080/"
        }
      },
      "execution_count": null,
      "outputs": [
        {
          "output_type": "execute_result",
          "data": {
            "text/plain": [
              "2"
            ]
          },
          "metadata": {},
          "execution_count": 4
        }
      ]
    },
    {
      "cell_type": "markdown",
      "metadata": {
        "id": "vwK7RmRJbPqj"
      },
      "source": [
        "### looping in dict\n",
        "#### ทำการวนลูปในค่า dict โดยที่เรากำหนดตัว key และvalueขึ้นมา ได้ดังนี้\n"
      ]
    },
    {
      "cell_type": "code",
      "metadata": {
        "id": "HI0F-4HobPqj",
        "outputId": "410e30e2-f4e3-434a-f167-eaad1c7a16a0"
      },
      "source": [
        "name_grade = {'พันทิพา' : 'B','ศุภนิตา' : 'C','ปนัดดา' : 'A','ทรงกลด' : 'F'}\n",
        "name_grade"
      ],
      "execution_count": null,
      "outputs": [
        {
          "output_type": "execute_result",
          "data": {
            "text/plain": [
              "{'พันทิพา': 'B', 'ศุภนิตา': 'C', 'ปนัดดา': 'A', 'ทรงกลด': 'F'}"
            ]
          },
          "metadata": {
            "tags": []
          },
          "execution_count": 127
        }
      ]
    },
    {
      "cell_type": "code",
      "metadata": {
        "id": "jWf8aBmpbPqj",
        "outputId": "a66f4caa-2f9d-47af-a834-2e1ef0d363e9"
      },
      "source": [
        "name_grade['ปนัดดา']"
      ],
      "execution_count": null,
      "outputs": [
        {
          "output_type": "execute_result",
          "data": {
            "text/plain": [
              "'A'"
            ]
          },
          "metadata": {
            "tags": []
          },
          "execution_count": 128
        }
      ]
    },
    {
      "cell_type": "code",
      "metadata": {
        "scrolled": true,
        "id": "eDqhoebhbPqj",
        "outputId": "9efada52-491a-4315-e0de-f7f1f31b0254"
      },
      "source": [
        "for i in name_grade.keys():\n",
        "    print(i)"
      ],
      "execution_count": null,
      "outputs": [
        {
          "output_type": "stream",
          "text": [
            "พันทิพา\n",
            "ศุภนิตา\n",
            "ปนัดดา\n",
            "ทรงกลด\n"
          ],
          "name": "stdout"
        }
      ]
    },
    {
      "cell_type": "code",
      "metadata": {
        "id": "4CPaOKx-bPqj",
        "outputId": "bef21b54-413a-42af-8325-44c95b6cb285"
      },
      "source": [
        "name_grade.keys()"
      ],
      "execution_count": null,
      "outputs": [
        {
          "output_type": "execute_result",
          "data": {
            "text/plain": [
              "dict_keys(['พันทิพา', 'ศุภนิตา', 'ปนัดดา', 'ทรงกลด'])"
            ]
          },
          "metadata": {
            "tags": []
          },
          "execution_count": 132
        }
      ]
    },
    {
      "cell_type": "code",
      "metadata": {
        "id": "Imvq4faObPqj",
        "outputId": "9058ef89-ad8b-458c-d02c-c33d258d5745"
      },
      "source": [
        "for i in name_grade.keys():\n",
        "    print(f'{i} ได้เกรด {name_grade[i]}')"
      ],
      "execution_count": null,
      "outputs": [
        {
          "output_type": "stream",
          "text": [
            "พันทิพา ได้เกรด B\n",
            "ศุภนิตา ได้เกรด C\n",
            "ปนัดดา ได้เกรด A\n",
            "ทรงกลด ได้เกรด F\n"
          ],
          "name": "stdout"
        }
      ]
    },
    {
      "cell_type": "markdown",
      "metadata": {
        "id": "pLDGW8IobPqk"
      },
      "source": [
        "## conditional คือ เงื่อนไข /ประโยคเงื่อนไข"
      ]
    },
    {
      "cell_type": "markdown",
      "source": [
        "### ชนิดตัวแปรที่เกี่ยวข้อง Boolean(True,False)"
      ],
      "metadata": {
        "id": "7MrZ5WMvc10e"
      }
    },
    {
      "cell_type": "code",
      "source": [
        "condition_1 = True\n",
        "condition_2 = False"
      ],
      "metadata": {
        "id": "Bp5paO5Wcw_W"
      },
      "execution_count": null,
      "outputs": []
    },
    {
      "cell_type": "markdown",
      "metadata": {
        "id": "8_-zCLkrbPqk"
      },
      "source": [
        "\n",
        "##### การวนลูปโดยมีเงื่อนไขต่างๆมาเกี่ยวข้อง โดยมี pattern ดังนี้\n"
      ]
    },
    {
      "cell_type": "markdown",
      "metadata": {
        "id": "ZQuWb-bybPqk"
      },
      "source": [
        "```Python\n",
        "if condition1 :\n",
        "    do something\n",
        "elif condition2 :  #elif คือ else if\n",
        "    do another thing\n",
        "else:\n",
        "    do ...\n",
        "```\n",
        "    "
      ]
    },
    {
      "cell_type": "code",
      "metadata": {
        "id": "NsHtmTbjbPqk",
        "outputId": "20ffb4ef-f884-4c2b-e6d2-c9600b1583c0",
        "colab": {
          "base_uri": "https://localhost:8080/"
        }
      },
      "source": [
        "for name1 in list_friends :\n",
        "    for name2 in list_friends :\n",
        "            print(name1,'รัก',name2)"
      ],
      "execution_count": null,
      "outputs": [
        {
          "output_type": "stream",
          "text": [
            "พี่บูม รัก พี่บูม\n",
            "พี่บูม รัก ดายน์\n",
            "พี่บูม รัก แตงโม\n",
            "พี่บูม รัก ฝน\n",
            "พี่บูม รัก พี่เจ็ท\n",
            "พี่บูม รัก น้องแคมป์\n",
            "ดายน์ รัก พี่บูม\n",
            "ดายน์ รัก ดายน์\n",
            "ดายน์ รัก แตงโม\n",
            "ดายน์ รัก ฝน\n",
            "ดายน์ รัก พี่เจ็ท\n",
            "ดายน์ รัก น้องแคมป์\n",
            "แตงโม รัก พี่บูม\n",
            "แตงโม รัก ดายน์\n",
            "แตงโม รัก แตงโม\n",
            "แตงโม รัก ฝน\n",
            "แตงโม รัก พี่เจ็ท\n",
            "แตงโม รัก น้องแคมป์\n",
            "ฝน รัก พี่บูม\n",
            "ฝน รัก ดายน์\n",
            "ฝน รัก แตงโม\n",
            "ฝน รัก ฝน\n",
            "ฝน รัก พี่เจ็ท\n",
            "ฝน รัก น้องแคมป์\n",
            "พี่เจ็ท รัก พี่บูม\n",
            "พี่เจ็ท รัก ดายน์\n",
            "พี่เจ็ท รัก แตงโม\n",
            "พี่เจ็ท รัก ฝน\n",
            "พี่เจ็ท รัก พี่เจ็ท\n",
            "พี่เจ็ท รัก น้องแคมป์\n",
            "น้องแคมป์ รัก พี่บูม\n",
            "น้องแคมป์ รัก ดายน์\n",
            "น้องแคมป์ รัก แตงโม\n",
            "น้องแคมป์ รัก ฝน\n",
            "น้องแคมป์ รัก พี่เจ็ท\n",
            "น้องแคมป์ รัก น้องแคมป์\n"
          ],
          "name": "stdout"
        }
      ]
    },
    {
      "cell_type": "code",
      "metadata": {
        "id": "AR68KQ09lWu5",
        "outputId": "5bf585f2-7743-4124-a3d5-f731db613e5f",
        "colab": {
          "base_uri": "https://localhost:8080/"
        }
      },
      "source": [
        "for name1 in list_friends:\n",
        "    for name2 in list_friends:\n",
        "        if name1 != name2: #ไม่ปริ้นชื่อคนเดียวกันซ้ำ\n",
        "            print(name1,'รัก',name2)"
      ],
      "execution_count": null,
      "outputs": [
        {
          "output_type": "stream",
          "text": [
            "พี่บูม รัก ดายน์\n",
            "พี่บูม รัก แตงโม\n",
            "พี่บูม รัก ฝน\n",
            "พี่บูม รัก พี่เจ็ท\n",
            "พี่บูม รัก น้องแคมป์\n",
            "ดายน์ รัก พี่บูม\n",
            "ดายน์ รัก แตงโม\n",
            "ดายน์ รัก ฝน\n",
            "ดายน์ รัก พี่เจ็ท\n",
            "ดายน์ รัก น้องแคมป์\n",
            "แตงโม รัก พี่บูม\n",
            "แตงโม รัก ดายน์\n",
            "แตงโม รัก ฝน\n",
            "แตงโม รัก พี่เจ็ท\n",
            "แตงโม รัก น้องแคมป์\n",
            "ฝน รัก พี่บูม\n",
            "ฝน รัก ดายน์\n",
            "ฝน รัก แตงโม\n",
            "ฝน รัก พี่เจ็ท\n",
            "ฝน รัก น้องแคมป์\n",
            "พี่เจ็ท รัก พี่บูม\n",
            "พี่เจ็ท รัก ดายน์\n",
            "พี่เจ็ท รัก แตงโม\n",
            "พี่เจ็ท รัก ฝน\n",
            "พี่เจ็ท รัก น้องแคมป์\n",
            "น้องแคมป์ รัก พี่บูม\n",
            "น้องแคมป์ รัก ดายน์\n",
            "น้องแคมป์ รัก แตงโม\n",
            "น้องแคมป์ รัก ฝน\n",
            "น้องแคมป์ รัก พี่เจ็ท\n"
          ],
          "name": "stdout"
        }
      ]
    },
    {
      "cell_type": "code",
      "metadata": {
        "id": "agEHNNiQl5Kf",
        "outputId": "1497c2e0-f201-4045-8614-49581eeeb3e2",
        "colab": {
          "base_uri": "https://localhost:8080/"
        }
      },
      "source": [
        "for name1 in list_friends:\n",
        "    for name2 in list_friends:\n",
        "        if name1 == name2: #ปริ้นชื่อคนเดียวกันซ้ำ\n",
        "            print(name1,'รัก',name2)"
      ],
      "execution_count": null,
      "outputs": [
        {
          "output_type": "stream",
          "text": [
            "พี่บูม รัก พี่บูม\n",
            "ดายน์ รัก ดายน์\n",
            "แตงโม รัก แตงโม\n",
            "ฝน รัก ฝน\n",
            "พี่เจ็ท รัก พี่เจ็ท\n",
            "น้องแคมป์ รัก น้องแคมป์\n"
          ],
          "name": "stdout"
        }
      ]
    },
    {
      "cell_type": "code",
      "metadata": {
        "id": "zwaS_D0kmFPD",
        "outputId": "21d64114-f7d1-4346-a777-c27c3aa797f4",
        "colab": {
          "base_uri": "https://localhost:8080/"
        }
      },
      "source": [
        "for name1 in list_friends:\n",
        "    for name2 in list_friends:\n",
        "        if name1 == name2:\n",
        "            'do nothing'\n",
        "        else:\n",
        "            print(name1,'รัก',name2)"
      ],
      "execution_count": null,
      "outputs": [
        {
          "output_type": "stream",
          "text": [
            "พี่บูม รัก ดายน์\n",
            "พี่บูม รัก แตงโม\n",
            "พี่บูม รัก ฝน\n",
            "พี่บูม รัก พี่เจ็ท\n",
            "พี่บูม รัก น้องแคมป์\n",
            "ดายน์ รัก พี่บูม\n",
            "ดายน์ รัก แตงโม\n",
            "ดายน์ รัก ฝน\n",
            "ดายน์ รัก พี่เจ็ท\n",
            "ดายน์ รัก น้องแคมป์\n",
            "แตงโม รัก พี่บูม\n",
            "แตงโม รัก ดายน์\n",
            "แตงโม รัก ฝน\n",
            "แตงโม รัก พี่เจ็ท\n",
            "แตงโม รัก น้องแคมป์\n",
            "ฝน รัก พี่บูม\n",
            "ฝน รัก ดายน์\n",
            "ฝน รัก แตงโม\n",
            "ฝน รัก พี่เจ็ท\n",
            "ฝน รัก น้องแคมป์\n",
            "พี่เจ็ท รัก พี่บูม\n",
            "พี่เจ็ท รัก ดายน์\n",
            "พี่เจ็ท รัก แตงโม\n",
            "พี่เจ็ท รัก ฝน\n",
            "พี่เจ็ท รัก น้องแคมป์\n",
            "น้องแคมป์ รัก พี่บูม\n",
            "น้องแคมป์ รัก ดายน์\n",
            "น้องแคมป์ รัก แตงโม\n",
            "น้องแคมป์ รัก ฝน\n",
            "น้องแคมป์ รัก พี่เจ็ท\n"
          ],
          "name": "stdout"
        }
      ]
    },
    {
      "cell_type": "markdown",
      "metadata": {
        "id": "kUPdCRG7bPqk"
      },
      "source": [
        "#### == เท่ากับ, !=ไม่เท่า,>=มากกว่า,<=น้อยกว่า,<,>"
      ]
    },
    {
      "cell_type": "code",
      "metadata": {
        "id": "p4IXGFYDm_e-",
        "outputId": "7d7127fe-79eb-4f2a-da12-ef134206aa2a",
        "colab": {
          "base_uri": "https://localhost:8080/"
        }
      },
      "source": [
        "'พี่บูม' == 'พี่เจ็ท'"
      ],
      "execution_count": null,
      "outputs": [
        {
          "output_type": "execute_result",
          "data": {
            "text/plain": [
              "False"
            ]
          },
          "metadata": {
            "tags": []
          },
          "execution_count": 31
        }
      ]
    },
    {
      "cell_type": "code",
      "metadata": {
        "id": "yXA87OOmnH4A",
        "outputId": "3c36a82d-6264-448c-b1bf-4e69dc7d2c27",
        "colab": {
          "base_uri": "https://localhost:8080/"
        }
      },
      "source": [
        "'พี่บูม' != 'พี่เจ็ท'"
      ],
      "execution_count": null,
      "outputs": [
        {
          "output_type": "execute_result",
          "data": {
            "text/plain": [
              "True"
            ]
          },
          "metadata": {
            "tags": []
          },
          "execution_count": 32
        }
      ]
    },
    {
      "cell_type": "markdown",
      "source": [
        "## &&,||,is : Operation อื่น ๆ"
      ],
      "metadata": {
        "id": "r8H-E5n8iw0e"
      }
    },
    {
      "cell_type": "code",
      "source": [
        "if (1>0)&(0>-1):\n",
        "  print(True & True)"
      ],
      "metadata": {
        "id": "WMlxZFydkI-T",
        "outputId": "67d3263c-c000-466c-dd5c-f13b5fa6cf76",
        "colab": {
          "base_uri": "https://localhost:8080/"
        }
      },
      "execution_count": null,
      "outputs": [
        {
          "output_type": "stream",
          "name": "stdout",
          "text": [
            "True\n"
          ]
        }
      ]
    },
    {
      "cell_type": "code",
      "source": [
        "if 'T' in 'Theerapat':\n",
        "  print('T in Theerapat')"
      ],
      "metadata": {
        "id": "leqojgbSkVL7",
        "outputId": "764ee4c1-5682-4fae-e2b9-b44782e64faf",
        "colab": {
          "base_uri": "https://localhost:8080/"
        }
      },
      "execution_count": null,
      "outputs": [
        {
          "output_type": "stream",
          "name": "stdout",
          "text": [
            "T in Theerapat\n"
          ]
        }
      ]
    },
    {
      "cell_type": "code",
      "source": [
        "def return_nothing(x):\n",
        "  x += 1"
      ],
      "metadata": {
        "id": "UYRiM7JvlY55"
      },
      "execution_count": null,
      "outputs": []
    },
    {
      "cell_type": "code",
      "source": [
        "a = return_nothing(5)"
      ],
      "metadata": {
        "id": "TIv1oe71lmgR"
      },
      "execution_count": null,
      "outputs": []
    },
    {
      "cell_type": "code",
      "source": [
        "if a is None:\n",
        "  print('x is null')"
      ],
      "metadata": {
        "id": "PvNNdCJllqq7",
        "outputId": "52331ae5-48ec-4ddc-df61-cfa3ee3f2789",
        "colab": {
          "base_uri": "https://localhost:8080/"
        }
      },
      "execution_count": null,
      "outputs": [
        {
          "output_type": "stream",
          "name": "stdout",
          "text": [
            "x is null\n"
          ]
        }
      ]
    },
    {
      "cell_type": "markdown",
      "metadata": {
        "id": "OavN4AjAbPqk"
      },
      "source": [
        "#### หากหลังเงื่อนไข True ถูกต้องจะทำการ print ข้อความออกมาว่า Yes"
      ]
    },
    {
      "cell_type": "code",
      "metadata": {
        "id": "QPxAQKm4bPql",
        "outputId": "20063882-d97c-451a-fe85-35f663c82a7f"
      },
      "source": [
        "if True:\n",
        "    print('Yes')"
      ],
      "execution_count": null,
      "outputs": [
        {
          "output_type": "stream",
          "text": [
            "Yes\n"
          ],
          "name": "stdout"
        }
      ]
    },
    {
      "cell_type": "code",
      "metadata": {
        "id": "tqdBRcVSbPql"
      },
      "source": [
        "if False:\n",
        "    print('No')"
      ],
      "execution_count": null,
      "outputs": []
    },
    {
      "cell_type": "markdown",
      "metadata": {
        "id": "_9xpvw3jbPql"
      },
      "source": [
        "#### หากหลังเงื่อนไข False ไม่ถูกต้องจะไม่ปริ้นข้อความใดๆออกมา\n",
        "#### ซึ่งจะต้องใช้เงื่อนไขนี้ จึงจะได้ปริ้นค่าเงื่อนไขนั้นออกมา ดังนี้"
      ]
    },
    {
      "cell_type": "code",
      "metadata": {
        "id": "1e0IcdsMbPql",
        "outputId": "cb6bf9a5-9ede-4cfe-e9d1-577323e40eac",
        "colab": {
          "base_uri": "https://localhost:8080/"
        }
      },
      "source": [
        "if False:\n",
        "    print('Yes')\n",
        "else:\n",
        "    print('No')"
      ],
      "execution_count": null,
      "outputs": [
        {
          "output_type": "stream",
          "text": [
            "No\n"
          ],
          "name": "stdout"
        }
      ]
    },
    {
      "cell_type": "markdown",
      "source": [
        "### Quiz 3.5"
      ],
      "metadata": {
        "id": "8C5yUCw5mMYU"
      }
    },
    {
      "cell_type": "code",
      "source": [
        "def timedif(t2,t1 = '00:00:00'):\n",
        "  t10 = t1.split(':')\n",
        "  t20 = t2.split(':')\n",
        "  import datetime\n",
        "  t11 = datetime.datetime.strptime(t1, '%H:%M:%S')\n",
        "  t22 = datetime.datetime.strptime(t2, '%H:%M:%S')\n",
        "  if t20 < t10: #เมื่อเวลาเลยข้ามวัน\n",
        "    from datetime import timedelta\n",
        "    t22 += timedelta(days=1)\n",
        "    t3 = t22 - t11\n",
        "  else:\n",
        "    t3 = t22 - t11\n",
        "  t31 = str(t3).split(':')\n",
        "  t32 = int(t31[0])*3600 + int(t31[1])*60 + int(t31[2])\n",
        "  return t32"
      ],
      "metadata": {
        "id": "5eZWMLDbf-Sc"
      },
      "execution_count": null,
      "outputs": []
    },
    {
      "cell_type": "markdown",
      "metadata": {
        "id": "sSySEFHNbPql"
      },
      "source": [
        "# HW2\n",
        "#### วนลูปส่วนต่างเวลา t1 และ t2 ต่อไปนี้\n",
        "#####"
      ]
    },
    {
      "cell_type": "code",
      "source": [
        "def timecal(t1,t2):\n",
        "  t10 = t1.split(':')\n",
        "  t20 = t2.split(':')\n",
        "  import datetime\n",
        "  t11 = datetime.datetime.strptime(t1, '%H:%M:%S')\n",
        "  t22 = datetime.datetime.strptime(t2, '%H:%M:%S')\n",
        "  if t20 < t10: #เมื่อเวลาเลยข้ามวัน\n",
        "    from datetime import timedelta\n",
        "    t22 += timedelta(days=1)\n",
        "    t3 = t22 - t11\n",
        "  else:\n",
        "    t3 = t22 - t11\n",
        "  t31 = str(t3).split(':')\n",
        "  t32 = int(t31[0])*3600 + int(t31[1])*60 + int(t31[2])\n",
        "  return t32"
      ],
      "metadata": {
        "id": "CQPjTPVjbAna"
      },
      "execution_count": null,
      "outputs": []
    },
    {
      "cell_type": "code",
      "source": [
        "quest = ['18:09:10 - 18:25:10',\n",
        "'13:38:39 - 23:54:39',\n",
        "'16:49:58 - 18:05:58',\n",
        "'21:49:10 - 22:24:10',\n",
        "'08:52:21 - 09:25:21',\n",
        "'06:56:26 - 07:49:26',\n",
        "'12:08:05 - 12:43:05',\n",
        "'01:48:38 - 07:18:38',\n",
        "'08:51:21 - 10:17:21',\n",
        "'17:05:17 - 18:09:17',\n",
        "'18:51:21 - 00:17:21',\n",
        "'17:05:17 - 11:09:17']\n",
        "\n",
        "def timecal(t1,t2):\n",
        "  t10 = t1.split(':')\n",
        "  t20 = t2.split(':')\n",
        "  import datetime\n",
        "  t11 = datetime.datetime.strptime(t1, '%H:%M:%S')\n",
        "  t22 = datetime.datetime.strptime(t2, '%H:%M:%S')\n",
        "  if t20 < t10: #เมื่อเวลาเลยข้ามวัน\n",
        "    from datetime import timedelta\n",
        "    t22 += timedelta(days=1)\n",
        "    t3 = t22 - t11\n",
        "  else:\n",
        "    t3 = t22 - t11\n",
        "  t31 = str(t3).split(':')\n",
        "  t32 = int(t31[0])*3600 + int(t31[1])*60 + int(t31[2])\n",
        "  return t32\n",
        "n = len(quest)\n",
        "seconds = []\n",
        "for i in range(n):\n",
        "    a = quest[i].split(' - ')\n",
        "    b = a[0]\n",
        "    c = a[1]\n",
        "    print('จำนวนวินาทีของส่วนต่างเวลา ' + str(a[0]) + ' กับเวลา ' + str(a[1]) + ' คือ ' + str(timecal(b,c)) + ' วินาที')\n",
        "    seconds.append(timecal(b,c))"
      ],
      "metadata": {
        "colab": {
          "base_uri": "https://localhost:8080/"
        },
        "id": "IUFkIW3Yjzuz",
        "outputId": "af1db4f2-7e0c-4c0a-90b8-9d73f14cc718"
      },
      "execution_count": 1,
      "outputs": [
        {
          "output_type": "stream",
          "name": "stdout",
          "text": [
            "จำนวนวินาทีของส่วนต่างเวลา 18:09:10 กับเวลา 18:25:10 คือ 960 วินาที\n",
            "จำนวนวินาทีของส่วนต่างเวลา 13:38:39 กับเวลา 23:54:39 คือ 36960 วินาที\n",
            "จำนวนวินาทีของส่วนต่างเวลา 16:49:58 กับเวลา 18:05:58 คือ 4560 วินาที\n",
            "จำนวนวินาทีของส่วนต่างเวลา 21:49:10 กับเวลา 22:24:10 คือ 2100 วินาที\n",
            "จำนวนวินาทีของส่วนต่างเวลา 08:52:21 กับเวลา 09:25:21 คือ 1980 วินาที\n",
            "จำนวนวินาทีของส่วนต่างเวลา 06:56:26 กับเวลา 07:49:26 คือ 3180 วินาที\n",
            "จำนวนวินาทีของส่วนต่างเวลา 12:08:05 กับเวลา 12:43:05 คือ 2100 วินาที\n",
            "จำนวนวินาทีของส่วนต่างเวลา 01:48:38 กับเวลา 07:18:38 คือ 19800 วินาที\n",
            "จำนวนวินาทีของส่วนต่างเวลา 08:51:21 กับเวลา 10:17:21 คือ 5160 วินาที\n",
            "จำนวนวินาทีของส่วนต่างเวลา 17:05:17 กับเวลา 18:09:17 คือ 3840 วินาที\n",
            "จำนวนวินาทีของส่วนต่างเวลา 18:51:21 กับเวลา 00:17:21 คือ 19560 วินาที\n",
            "จำนวนวินาทีของส่วนต่างเวลา 17:05:17 กับเวลา 11:09:17 คือ 65040 วินาที\n"
          ]
        }
      ]
    },
    {
      "cell_type": "markdown",
      "source": [
        "# HW3\n",
        "#### ฟังก์ชันแปลงวินาทีกลับมาเป็นชั่วโมง นาที วินาที โดยไม่ใช้ฟังก์ชันช่วยเหลืออื่น ๆ ของ python ส่วนของชั่ว โมง นาที วินาทีเป็นศูนย์ไม้่ต้องแสดง\n"
      ],
      "metadata": {
        "id": "RrGuOn6GhhAT"
      }
    },
    {
      "cell_type": "code",
      "source": [
        "seconds"
      ],
      "metadata": {
        "id": "T2CTBVCiRW_6",
        "colab": {
          "base_uri": "https://localhost:8080/"
        },
        "outputId": "f865a671-556b-44a8-b8e2-62085baf2745"
      },
      "execution_count": 2,
      "outputs": [
        {
          "output_type": "execute_result",
          "data": {
            "text/plain": [
              "[960, 36960, 4560, 2100, 1980, 3180, 2100, 19800, 5160, 3840, 19560, 65040]"
            ]
          },
          "metadata": {},
          "execution_count": 2
        }
      ]
    },
    {
      "cell_type": "code",
      "source": [
        "def timeconvert(sec):\n",
        "  hcal = sec // 3600\n",
        "  mcal = (sec % 3600) // 60\n",
        "  scal = sec % 60\n",
        "  if hcal != 0:\n",
        "    print(hcal,end=' ชั่วโมง ')\n",
        "  if mcal != 0:\n",
        "    print(mcal,end=' นาที ')\n",
        "  if scal != 0:\n",
        "     print(scal,end=' วินาที ')\n",
        "  print()\n"
      ],
      "metadata": {
        "id": "hZVpFsVWrrfg"
      },
      "execution_count": 39,
      "outputs": []
    },
    {
      "cell_type": "code",
      "source": [
        "for i in seconds:\n",
        "   timeconvert(i)"
      ],
      "metadata": {
        "colab": {
          "base_uri": "https://localhost:8080/"
        },
        "id": "iWcdtEv4xO1K",
        "outputId": "41f4a1a2-ef88-4643-92f2-ca56849e3a28"
      },
      "execution_count": 43,
      "outputs": [
        {
          "output_type": "stream",
          "name": "stdout",
          "text": [
            "16 นาที \n",
            "10 ชั่วโมง 16 นาที \n",
            "1 ชั่วโมง 16 นาที \n",
            "35 นาที \n",
            "33 นาที \n",
            "53 นาที \n",
            "35 นาที \n",
            "5 ชั่วโมง 30 นาที \n",
            "1 ชั่วโมง 26 นาที \n",
            "1 ชั่วโมง 4 นาที \n",
            "5 ชั่วโมง 26 นาที \n",
            "18 ชั่วโมง 4 นาที \n"
          ]
        }
      ]
    },
    {
      "cell_type": "markdown",
      "source": [
        "# HW4\n",
        "#### เขียน function ตัดเกรด โดยที่ input เป็นคะแนน(0-100) , output เป็นเกรด (F-A)\n",
        "#### วนลูปตัดเกรด input = [1,50,65,90,101,-5,49]"
      ],
      "metadata": {
        "id": "qJK4Mtxpijb2"
      }
    },
    {
      "cell_type": "markdown",
      "source": [
        "##### กำหนด\n",
        "      ถ้าคะแนนอยู่ระหว่างมากกว่าหรือเท่ากับ  0  แต่น้อยกว่า 50 จะได้เกรด F\n",
        "      ถ้าคะแนนอยู่ระหว่างมากกว่าหรือเท่ากับ 50 แต่น้อยกว่า 55 จะได้เกรด D\n",
        "      ถ้าคะแนนอยู่ระหว่างมากกว่าหรือเท่ากับ 55 แต่น้อยกว่า 60 จะได้เกรด D+\n",
        "      ถ้าคะแนนอยู่ระหว่างมากกว่าหรือเท่ากับ 60 แต่น้อยกว่า 65 จะได้เกรด C\n",
        "      ถ้าคะแนนอยู่ระหว่างมากกว่าหรือเท่ากับ 65 แต่น้อยกว่า 70 จะได้เกรด C+\n",
        "      ถ้าคะแนนอยู่ระหว่างมากกว่าหรือเท่ากับ 70 แต่น้อยกว่า 75 จะได้เกรด B\n",
        "      ถ้าคะแนนอยู่ระหว่างมากกว่าหรือเท่ากับ 75 แต่น้อยกว่า 80 จะได้เกรด B+\n",
        "      ถ้าคะแนนอยู่ระหว่างมากกว่าหรือเท่ากับ 80  จะได้เกรด A\n",
        "      แต่ว่าค่าคะแนนจะต้องไม่ต่ำกว่า 0 และมากกว่า 100 ไม่งั้นจะเกิด error"
      ],
      "metadata": {
        "id": "N0YaqSfMijZj"
      }
    },
    {
      "cell_type": "code",
      "source": [
        "input = [1,50,65,90,101,-5,49]"
      ],
      "metadata": {
        "id": "4BJzlCZjwjhN"
      },
      "execution_count": 45,
      "outputs": []
    },
    {
      "cell_type": "code",
      "source": [
        "def grade(score):\n",
        "  if score > 80:\n",
        "    print('A')\n",
        "  elif score > 75:\n",
        "    print('B+')\n",
        "  elif score > 70:\n",
        "    print('B')\n",
        "  elif score > 65:\n",
        "    print('C+')\n",
        "  elif score > 60:\n",
        "    print('C')\n",
        "  elif score > 55:\n",
        "    print('D+')\n",
        "  elif score > 50:\n",
        "    print('D')\n",
        "  elif score < 0 or score > 100:\n",
        "    print('error')\n",
        "  else:\n",
        "    print('F')\n",
        "\n",
        ""
      ],
      "metadata": {
        "id": "VhysFjzFwY6J"
      },
      "execution_count": 53,
      "outputs": []
    },
    {
      "cell_type": "code",
      "source": [
        "for i in input:\n",
        "  grade(i)"
      ],
      "metadata": {
        "colab": {
          "base_uri": "https://localhost:8080/"
        },
        "id": "lvx7yjZH11lw",
        "outputId": "0e44433d-9450-4544-eddd-ad70ed4f0a5d"
      },
      "execution_count": 54,
      "outputs": [
        {
          "output_type": "stream",
          "name": "stdout",
          "text": [
            "F\n",
            "F\n",
            "C\n",
            "A\n",
            "A\n",
            "error\n",
            "F\n"
          ]
        }
      ]
    },
    {
      "cell_type": "code",
      "source": [],
      "metadata": {
        "id": "lMJ7uXy4161H"
      },
      "execution_count": null,
      "outputs": []
    }
  ]
}
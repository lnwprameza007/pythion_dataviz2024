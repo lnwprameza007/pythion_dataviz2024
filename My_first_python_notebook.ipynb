{
  "nbformat": 4,
  "nbformat_minor": 0,
  "metadata": {
    "colab": {
      "provenance": [],
      "authorship_tag": "ABX9TyND7e9k4L8Jhhf2RKSgZZ4g",
      "include_colab_link": true
    },
    "kernelspec": {
      "name": "python3",
      "display_name": "Python 3"
    },
    "language_info": {
      "name": "python"
    }
  },
  "cells": [
    {
      "cell_type": "markdown",
      "metadata": {
        "id": "view-in-github",
        "colab_type": "text"
      },
      "source": [
        "<a href=\"https://colab.research.google.com/github/lnwprameza007/pythion_dataviz2024/blob/main/My_first_python_notebook.ipynb\" target=\"_parent\"><img src=\"https://colab.research.google.com/assets/colab-badge.svg\" alt=\"Open In Colab\"/></a>"
      ]
    },
    {
      "cell_type": "markdown",
      "source": [
        "Basic Programming for Data science & Data Visualization\n",
        "here we us **Markdown**"
      ],
      "metadata": {
        "id": "03w9-ggJRgvy"
      }
    },
    {
      "cell_type": "code",
      "source": [
        "print(\"Theerapat\")"
      ],
      "metadata": {
        "colab": {
          "base_uri": "https://localhost:8080/"
        },
        "id": "4rmtAOIOSDut",
        "outputId": "42f45809-f995-4d2d-958e-92d23a135a50"
      },
      "execution_count": 1,
      "outputs": [
        {
          "output_type": "stream",
          "name": "stdout",
          "text": [
            "Theerapat\n"
          ]
        }
      ]
    },
    {
      "cell_type": "code",
      "source": [
        "print(\"Petchdong\")"
      ],
      "metadata": {
        "colab": {
          "base_uri": "https://localhost:8080/"
        },
        "id": "F88amw_sSQ2O",
        "outputId": "ef369c36-f383-4920-9ddb-3db684b14e76"
      },
      "execution_count": 2,
      "outputs": [
        {
          "output_type": "stream",
          "name": "stdout",
          "text": [
            "Petchdong\n"
          ]
        }
      ]
    },
    {
      "cell_type": "code",
      "source": [],
      "metadata": {
        "id": "1Cy3ReNpS1aE"
      },
      "execution_count": null,
      "outputs": []
    }
  ]
}